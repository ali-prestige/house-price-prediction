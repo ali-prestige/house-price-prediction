{
 "cells": [
  {
   "cell_type": "markdown",
   "id": "e93c8375",
   "metadata": {},
   "source": [
    "# House Price Prediction 🏠📈\n",
    "\n",
    "This project uses Linear Regression to predict house prices based on features like number of bedrooms, square footage, and location.\n",
    "\n",
    "## Dataset\n",
    "[Kaggle: King County House Sales](https://www.kaggle.com/datasets/harlfoxem/housesalesprediction)\n",
    "\n",
    "## Goals\n",
    "- Explore housing data\n",
    "- Build a regression model\n",
    "- Evaluate performance using RMSE\n",
    "\n",
    "## Tools\n",
    "- Python\n",
    "- pandas, matplotlib, seaborn\n",
    "- scikit-learn\n",
    "\n",
    "## How to Run\n",
    "1. Install dependencies:"
   ]
  },
  {
   "cell_type": "code",
   "execution_count": null,
   "id": "831dee17",
   "metadata": {},
   "outputs": [],
   "source": [
    "pip install -r requirements.txt"
   ]
  },
  {
   "cell_type": "markdown",
   "id": "78f5354b",
   "metadata": {},
   "source": [
    "2. Open the notebook:"
   ]
  },
  {
   "cell_type": "code",
   "execution_count": null,
   "id": "ceb1141d",
   "metadata": {},
   "outputs": [],
   "source": [
    "jupyter notebook house_price_prediction.ipynb"
   ]
  },
  {
   "cell_type": "markdown",
   "id": "9c194006",
   "metadata": {},
   "source": [
    "## Sample Results\n",
    "- R² Score: 0.70 (varies)\n",
    "- RMSE: ~ $130,000"
   ]
  },
  {
   "cell_type": "code",
   "execution_count": null,
   "id": "c331b688",
   "metadata": {},
   "outputs": [],
   "source": []
  }
 ],
 "metadata": {
  "kernelspec": {
   "display_name": "Python 3 (ipykernel)",
   "language": "python",
   "name": "python3"
  },
  "language_info": {
   "codemirror_mode": {
    "name": "ipython",
    "version": 3
   },
   "file_extension": ".py",
   "mimetype": "text/x-python",
   "name": "python",
   "nbconvert_exporter": "python",
   "pygments_lexer": "ipython3",
   "version": "3.9.7"
  }
 },
 "nbformat": 4,
 "nbformat_minor": 5
}
